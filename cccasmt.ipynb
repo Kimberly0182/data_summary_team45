{
 "cells": [
  {
   "cell_type": "code",
   "execution_count": 1,
   "metadata": {
    "pycharm": {
     "name": "#%%\n"
    }
   },
   "outputs": [
    {
     "name": "stderr",
     "output_type": "stream",
     "text": [
      "c:\\Users\\alex\\anaconda3\\envs\\torch1.12_gpu_py39\\lib\\site-packages\\tqdm\\auto.py:21: TqdmWarning: IProgress not found. Please update jupyter and ipywidgets. See https://ipywidgets.readthedocs.io/en/stable/user_install.html\n",
      "  from .autonotebook import tqdm as notebook_tqdm\n"
     ]
    }
   ],
   "source": [
    "import pandas as pd\n",
    "import json\n",
    "from tqdm import tqdm\n",
    "from keras_preprocessing.sequence import pad_sequences\n",
    "import math\n",
    "import torch\n",
    "import torch.nn as nn\n",
    "from torch.nn import functional as F\n",
    "from torch.optim import AdamW,Adam\n",
    "from torch.utils.data import TensorDataset, DataLoader, Dataset\n",
    "import numpy as np\n",
    "from sklearn.model_selection import train_test_split\n",
    "from transformers import AutoTokenizer,AutoModelForSequenceClassification\n",
    "import pickle\n",
    "from scipy.special import softmax\n",
    "import csv\n",
    "import urllib.request\n",
    "import emoji\n",
    "import matplotlib.pyplot as plt"
   ]
  },
  {
   "cell_type": "code",
   "execution_count": 3,
   "metadata": {
    "pycharm": {
     "name": "#%%\n"
    }
   },
   "outputs": [],
   "source": [
    "# with open(\"data/tweet_emoji_place.json\",'r',encoding='utf-8') as f:\n",
    "#     jdata =json.load(f)\n",
    "# with open(\"data/toot_emoji.json\",'r',encoding='utf-8') as f:\n",
    "#     jtoot_data =json.load(f)\n"
   ]
  },
  {
   "cell_type": "code",
   "execution_count": 10,
   "metadata": {
    "pycharm": {
     "name": "#%%\n"
    }
   },
   "outputs": [],
   "source": [
    "device = torch.device('cuda') if torch.cuda.is_available() else torch.device('cpu')\n",
    "\n",
    "model_name = 'cardiffnlp/twitter-roberta-base-sentiment'\n",
    "tokenizer = AutoTokenizer.from_pretrained(model_name)\n",
    "model = AutoModelForSequenceClassification.from_pretrained(model_name).to(device)"
   ]
  },
  {
   "cell_type": "code",
   "execution_count": 12,
   "metadata": {
    "pycharm": {
     "name": "#%%\n"
    }
   },
   "outputs": [],
   "source": [
    "# Preprocess text (username and link placeholders)\n",
    "def preprocess(text):\n",
    "    new_text = []\n",
    " \n",
    " \n",
    "    for t in text.split(\" \"):\n",
    "        t = '@user' if t.startswith('@') and len(t) > 1 else t\n",
    "        t = 'http' if t.startswith('http') else t\n",
    "        new_text.append(t)\n",
    "    return \" \".join(new_text)\n",
    "\n",
    "# tweet = \"I like using the new transformers library!\"\n",
    "\n",
    "def find_sentiment(tweet):\n",
    "    tweet=preprocess(tweet)\n",
    "    inputs = tokenizer(tweet, return_tensors='pt',truncation=True,max_length=512).to(device)\n",
    "    outputs = model(**inputs)\n",
    "\n",
    "    probs = F.softmax(outputs.logits, dim=-1)\n",
    "    sentiment = ['Negative', 'Neutral', 'Positive']\n",
    "    result = sentiment[probs.argmax().item()]\n",
    "\n",
    "    max_prob, max_index=torch.max(probs,dim=1)\n",
    "  \n",
    "    return result,max_prob.item()\n",
    "\n",
    "def add_sentiment_and_prob(df):\n",
    "    sentiment_lst=[]\n",
    "    prob_lst=[]\n",
    "    for i in tqdm(range(len(df))):\n",
    "        tweet=df.iloc[0,:]['text']\n",
    "        sentiment,prob=find_sentiment(tweet)\n",
    "\n",
    "        sentiment_lst.append(sentiment)\n",
    "        prob_lst.append(prob)\n",
    "\n",
    "    df[\"sentiment\"]=sentiment_lst\n",
    "    df[\"sentiment_prob\"]=prob_lst\n",
    "    return df\n",
    "\n",
    "# count number of existance of each emoji in all text in given dataframe\n",
    "def count_emoji(df,topk,descending=True,truncate=True):\n",
    "    dic={}\n",
    "    for i in range(len(df)):\n",
    "        tweet=df.iloc[i,:]['text']\n",
    "        for e in emoji.distinct_emoji_list(tweet):\n",
    "            if e in dic:\n",
    "                dic[e]+=1\n",
    "            else:\n",
    "                dic[e]=1\n",
    "    \n",
    "    if truncate:\n",
    "        dic = {k: v for k, v in sorted(dic.items(), key=lambda item: item[1], reverse=descending)[:topk]}\n",
    "    else:\n",
    "        dic = {k: v for k, v in sorted(dic.items(), key=lambda item: item[1], reverse=descending)}\n",
    "    return dic\n",
    "\n",
    "# for a given dataframe, filter out all post with selected 'sentiment'\n",
    "# then filter out top 'proportion' of post\n",
    "# then for all emoji exist in these posts, find the 'topk' emoji that has most occurance\n",
    "def proportion_sentiment_topk_emoji(df,sentiment,proportion,topk):\n",
    "    df= df.loc[df['sentiment']==sentiment]\n",
    "    df= df.sort_values(by='sentiment_prob')\n",
    "    df=df.iloc[:int(len(df)*proportion),:]\n",
    "\n",
    "    dic=count_emoji(df,topk=topk,descending=True,truncate=True)\n",
    "    return dic\n",
    "\n",
    "# df is data frame, metrics is either year, month or date\n",
    "# find number of emoji found in each year/month/date\n",
    "# for one post, only the unique emoji will be counted\n",
    "def count_emoji_date(df,metrics):\n",
    "    dic={}\n",
    "    metrics_dic={'date':10,'month':7,'year':4}\n",
    "    metric=metrics_dic[metrics]\n",
    "    for i in range(len(df)):\n",
    "        text=df.iloc[i,:]['text']\n",
    "        date=df.iloc[i,:]['created_at'][:metric]\n",
    "        if date in dic:\n",
    "            dic[date] += len(emoji.distinct_emoji_list(text))\n",
    "        else:\n",
    "            dic[date] = len(emoji.distinct_emoji_list(text))\n",
    "\n",
    "    return dic\n",
    "        \n",
    "\n",
    "def plot_piechart(df):\n",
    "    category_counts =df['sentiment'].value_counts()\n",
    "    print(category_counts)\n",
    "    labels = ['Negative','Neutral','Positive']\n",
    "    sizes=[category_counts['Negative'],category_counts['Neutral'],category_counts['Positive']]\n",
    "    colour=['#ff7f0e','#1f77b4','#2ca02c']\n",
    "    fig, ax = plt.subplots()\n",
    "    ax.pie(sizes, labels=labels, autopct='%1.1f%%', startangle=90,colors=colour)\n",
    "    ax.axis('equal')\n",
    "    ax.set_title('Distribution of tweet posts with different sentiments')\n",
    "    plt.show()"
   ]
  },
  {
   "attachments": {},
   "cell_type": "markdown",
   "metadata": {
    "pycharm": {
     "name": "#%% md\n"
    }
   },
   "source": [
    "run the following 5 block if dont have data with sentiments"
   ]
  },
  {
   "cell_type": "code",
   "execution_count": null,
   "metadata": {
    "pycharm": {
     "name": "#%%\n"
    }
   },
   "outputs": [],
   "source": [
    "data=pd.read_json(\"data/tweet_emoji_place.json\")\n",
    "toot_data=pd.read_json(\"data/toot_emoji.json\")\n",
    "data=data.transpose()\n",
    "toot_data=toot_data.transpose()"
   ]
  },
  {
   "cell_type": "code",
   "execution_count": 13,
   "metadata": {
    "pycharm": {
     "name": "#%%\n"
    }
   },
   "outputs": [
    {
     "name": "stderr",
     "output_type": "stream",
     "text": [
      " 15%|█▍        | 2349/16144 [00:16<01:39, 138.39it/s]\n"
     ]
    },
    {
     "ename": "KeyboardInterrupt",
     "evalue": "",
     "output_type": "error",
     "traceback": [
      "\u001B[1;31m---------------------------------------------------------------------------\u001B[0m",
      "\u001B[1;31mKeyboardInterrupt\u001B[0m                         Traceback (most recent call last)",
      "Cell \u001B[1;32mIn[13], line 2\u001B[0m\n\u001B[0;32m      1\u001B[0m \u001B[39m# find sentiment and probability of it for all post in mastodon data\u001B[39;00m\n\u001B[1;32m----> 2\u001B[0m toot_data\u001B[39m=\u001B[39madd_sentiment_and_prob(toot_data)\n",
      "Cell \u001B[1;32mIn[12], line 32\u001B[0m, in \u001B[0;36madd_sentiment_and_prob\u001B[1;34m(df)\u001B[0m\n\u001B[0;32m     30\u001B[0m \u001B[39mfor\u001B[39;00m i \u001B[39min\u001B[39;00m tqdm(\u001B[39mrange\u001B[39m(\u001B[39mlen\u001B[39m(df))):\n\u001B[0;32m     31\u001B[0m     tweet\u001B[39m=\u001B[39mdf\u001B[39m.\u001B[39miloc[\u001B[39m0\u001B[39m,:][\u001B[39m'\u001B[39m\u001B[39mtext\u001B[39m\u001B[39m'\u001B[39m]\n\u001B[1;32m---> 32\u001B[0m     sentiment,prob\u001B[39m=\u001B[39mfind_sentiment(tweet)\n\u001B[0;32m     34\u001B[0m     sentiment_lst\u001B[39m.\u001B[39mappend(sentiment)\n\u001B[0;32m     35\u001B[0m     prob_lst\u001B[39m.\u001B[39mappend(prob)\n",
      "Cell \u001B[1;32mIn[12], line 17\u001B[0m, in \u001B[0;36mfind_sentiment\u001B[1;34m(tweet)\u001B[0m\n\u001B[0;32m     15\u001B[0m tweet\u001B[39m=\u001B[39mpreprocess(tweet)\n\u001B[0;32m     16\u001B[0m inputs \u001B[39m=\u001B[39m tokenizer(tweet, return_tensors\u001B[39m=\u001B[39m\u001B[39m'\u001B[39m\u001B[39mpt\u001B[39m\u001B[39m'\u001B[39m,truncation\u001B[39m=\u001B[39m\u001B[39mTrue\u001B[39;00m,max_length\u001B[39m=\u001B[39m\u001B[39m512\u001B[39m)\u001B[39m.\u001B[39mto(device)\n\u001B[1;32m---> 17\u001B[0m outputs \u001B[39m=\u001B[39m model(\u001B[39m*\u001B[39m\u001B[39m*\u001B[39minputs)\n\u001B[0;32m     19\u001B[0m probs \u001B[39m=\u001B[39m F\u001B[39m.\u001B[39msoftmax(outputs\u001B[39m.\u001B[39mlogits, dim\u001B[39m=\u001B[39m\u001B[39m-\u001B[39m\u001B[39m1\u001B[39m)\n\u001B[0;32m     20\u001B[0m sentiment \u001B[39m=\u001B[39m [\u001B[39m'\u001B[39m\u001B[39mNegative\u001B[39m\u001B[39m'\u001B[39m, \u001B[39m'\u001B[39m\u001B[39mNeutral\u001B[39m\u001B[39m'\u001B[39m, \u001B[39m'\u001B[39m\u001B[39mPositive\u001B[39m\u001B[39m'\u001B[39m]\n",
      "File \u001B[1;32mc:\\Users\\alex\\anaconda3\\envs\\torch1.12_gpu_py39\\lib\\site-packages\\torch\\nn\\modules\\module.py:1130\u001B[0m, in \u001B[0;36mModule._call_impl\u001B[1;34m(self, *input, **kwargs)\u001B[0m\n\u001B[0;32m   1126\u001B[0m \u001B[39m# If we don't have any hooks, we want to skip the rest of the logic in\u001B[39;00m\n\u001B[0;32m   1127\u001B[0m \u001B[39m# this function, and just call forward.\u001B[39;00m\n\u001B[0;32m   1128\u001B[0m \u001B[39mif\u001B[39;00m \u001B[39mnot\u001B[39;00m (\u001B[39mself\u001B[39m\u001B[39m.\u001B[39m_backward_hooks \u001B[39mor\u001B[39;00m \u001B[39mself\u001B[39m\u001B[39m.\u001B[39m_forward_hooks \u001B[39mor\u001B[39;00m \u001B[39mself\u001B[39m\u001B[39m.\u001B[39m_forward_pre_hooks \u001B[39mor\u001B[39;00m _global_backward_hooks\n\u001B[0;32m   1129\u001B[0m         \u001B[39mor\u001B[39;00m _global_forward_hooks \u001B[39mor\u001B[39;00m _global_forward_pre_hooks):\n\u001B[1;32m-> 1130\u001B[0m     \u001B[39mreturn\u001B[39;00m forward_call(\u001B[39m*\u001B[39m\u001B[39minput\u001B[39m, \u001B[39m*\u001B[39m\u001B[39m*\u001B[39mkwargs)\n\u001B[0;32m   1131\u001B[0m \u001B[39m# Do not call functions when jit is used\u001B[39;00m\n\u001B[0;32m   1132\u001B[0m full_backward_hooks, non_full_backward_hooks \u001B[39m=\u001B[39m [], []\n",
      "File \u001B[1;32mc:\\Users\\alex\\anaconda3\\envs\\torch1.12_gpu_py39\\lib\\site-packages\\transformers\\models\\roberta\\modeling_roberta.py:1216\u001B[0m, in \u001B[0;36mRobertaForSequenceClassification.forward\u001B[1;34m(self, input_ids, attention_mask, token_type_ids, position_ids, head_mask, inputs_embeds, labels, output_attentions, output_hidden_states, return_dict)\u001B[0m\n\u001B[0;32m   1208\u001B[0m \u001B[39m\u001B[39m\u001B[39mr\u001B[39m\u001B[39m\"\"\"\u001B[39;00m\n\u001B[0;32m   1209\u001B[0m \u001B[39mlabels (`torch.LongTensor` of shape `(batch_size,)`, *optional*):\u001B[39;00m\n\u001B[0;32m   1210\u001B[0m \u001B[39m    Labels for computing the sequence classification/regression loss. Indices should be in `[0, ...,\u001B[39;00m\n\u001B[0;32m   1211\u001B[0m \u001B[39m    config.num_labels - 1]`. If `config.num_labels == 1` a regression loss is computed (Mean-Square loss), If\u001B[39;00m\n\u001B[0;32m   1212\u001B[0m \u001B[39m    `config.num_labels > 1` a classification loss is computed (Cross-Entropy).\u001B[39;00m\n\u001B[0;32m   1213\u001B[0m \u001B[39m\"\"\"\u001B[39;00m\n\u001B[0;32m   1214\u001B[0m return_dict \u001B[39m=\u001B[39m return_dict \u001B[39mif\u001B[39;00m return_dict \u001B[39mis\u001B[39;00m \u001B[39mnot\u001B[39;00m \u001B[39mNone\u001B[39;00m \u001B[39melse\u001B[39;00m \u001B[39mself\u001B[39m\u001B[39m.\u001B[39mconfig\u001B[39m.\u001B[39muse_return_dict\n\u001B[1;32m-> 1216\u001B[0m outputs \u001B[39m=\u001B[39m \u001B[39mself\u001B[39;49m\u001B[39m.\u001B[39;49mroberta(\n\u001B[0;32m   1217\u001B[0m     input_ids,\n\u001B[0;32m   1218\u001B[0m     attention_mask\u001B[39m=\u001B[39;49mattention_mask,\n\u001B[0;32m   1219\u001B[0m     token_type_ids\u001B[39m=\u001B[39;49mtoken_type_ids,\n\u001B[0;32m   1220\u001B[0m     position_ids\u001B[39m=\u001B[39;49mposition_ids,\n\u001B[0;32m   1221\u001B[0m     head_mask\u001B[39m=\u001B[39;49mhead_mask,\n\u001B[0;32m   1222\u001B[0m     inputs_embeds\u001B[39m=\u001B[39;49minputs_embeds,\n\u001B[0;32m   1223\u001B[0m     output_attentions\u001B[39m=\u001B[39;49moutput_attentions,\n\u001B[0;32m   1224\u001B[0m     output_hidden_states\u001B[39m=\u001B[39;49moutput_hidden_states,\n\u001B[0;32m   1225\u001B[0m     return_dict\u001B[39m=\u001B[39;49mreturn_dict,\n\u001B[0;32m   1226\u001B[0m )\n\u001B[0;32m   1227\u001B[0m sequence_output \u001B[39m=\u001B[39m outputs[\u001B[39m0\u001B[39m]\n\u001B[0;32m   1228\u001B[0m logits \u001B[39m=\u001B[39m \u001B[39mself\u001B[39m\u001B[39m.\u001B[39mclassifier(sequence_output)\n",
      "File \u001B[1;32mc:\\Users\\alex\\anaconda3\\envs\\torch1.12_gpu_py39\\lib\\site-packages\\torch\\nn\\modules\\module.py:1130\u001B[0m, in \u001B[0;36mModule._call_impl\u001B[1;34m(self, *input, **kwargs)\u001B[0m\n\u001B[0;32m   1126\u001B[0m \u001B[39m# If we don't have any hooks, we want to skip the rest of the logic in\u001B[39;00m\n\u001B[0;32m   1127\u001B[0m \u001B[39m# this function, and just call forward.\u001B[39;00m\n\u001B[0;32m   1128\u001B[0m \u001B[39mif\u001B[39;00m \u001B[39mnot\u001B[39;00m (\u001B[39mself\u001B[39m\u001B[39m.\u001B[39m_backward_hooks \u001B[39mor\u001B[39;00m \u001B[39mself\u001B[39m\u001B[39m.\u001B[39m_forward_hooks \u001B[39mor\u001B[39;00m \u001B[39mself\u001B[39m\u001B[39m.\u001B[39m_forward_pre_hooks \u001B[39mor\u001B[39;00m _global_backward_hooks\n\u001B[0;32m   1129\u001B[0m         \u001B[39mor\u001B[39;00m _global_forward_hooks \u001B[39mor\u001B[39;00m _global_forward_pre_hooks):\n\u001B[1;32m-> 1130\u001B[0m     \u001B[39mreturn\u001B[39;00m forward_call(\u001B[39m*\u001B[39m\u001B[39minput\u001B[39m, \u001B[39m*\u001B[39m\u001B[39m*\u001B[39mkwargs)\n\u001B[0;32m   1131\u001B[0m \u001B[39m# Do not call functions when jit is used\u001B[39;00m\n\u001B[0;32m   1132\u001B[0m full_backward_hooks, non_full_backward_hooks \u001B[39m=\u001B[39m [], []\n",
      "File \u001B[1;32mc:\\Users\\alex\\anaconda3\\envs\\torch1.12_gpu_py39\\lib\\site-packages\\transformers\\models\\roberta\\modeling_roberta.py:852\u001B[0m, in \u001B[0;36mRobertaModel.forward\u001B[1;34m(self, input_ids, attention_mask, token_type_ids, position_ids, head_mask, inputs_embeds, encoder_hidden_states, encoder_attention_mask, past_key_values, use_cache, output_attentions, output_hidden_states, return_dict)\u001B[0m\n\u001B[0;32m    843\u001B[0m head_mask \u001B[39m=\u001B[39m \u001B[39mself\u001B[39m\u001B[39m.\u001B[39mget_head_mask(head_mask, \u001B[39mself\u001B[39m\u001B[39m.\u001B[39mconfig\u001B[39m.\u001B[39mnum_hidden_layers)\n\u001B[0;32m    845\u001B[0m embedding_output \u001B[39m=\u001B[39m \u001B[39mself\u001B[39m\u001B[39m.\u001B[39membeddings(\n\u001B[0;32m    846\u001B[0m     input_ids\u001B[39m=\u001B[39minput_ids,\n\u001B[0;32m    847\u001B[0m     position_ids\u001B[39m=\u001B[39mposition_ids,\n\u001B[1;32m   (...)\u001B[0m\n\u001B[0;32m    850\u001B[0m     past_key_values_length\u001B[39m=\u001B[39mpast_key_values_length,\n\u001B[0;32m    851\u001B[0m )\n\u001B[1;32m--> 852\u001B[0m encoder_outputs \u001B[39m=\u001B[39m \u001B[39mself\u001B[39;49m\u001B[39m.\u001B[39;49mencoder(\n\u001B[0;32m    853\u001B[0m     embedding_output,\n\u001B[0;32m    854\u001B[0m     attention_mask\u001B[39m=\u001B[39;49mextended_attention_mask,\n\u001B[0;32m    855\u001B[0m     head_mask\u001B[39m=\u001B[39;49mhead_mask,\n\u001B[0;32m    856\u001B[0m     encoder_hidden_states\u001B[39m=\u001B[39;49mencoder_hidden_states,\n\u001B[0;32m    857\u001B[0m     encoder_attention_mask\u001B[39m=\u001B[39;49mencoder_extended_attention_mask,\n\u001B[0;32m    858\u001B[0m     past_key_values\u001B[39m=\u001B[39;49mpast_key_values,\n\u001B[0;32m    859\u001B[0m     use_cache\u001B[39m=\u001B[39;49muse_cache,\n\u001B[0;32m    860\u001B[0m     output_attentions\u001B[39m=\u001B[39;49moutput_attentions,\n\u001B[0;32m    861\u001B[0m     output_hidden_states\u001B[39m=\u001B[39;49moutput_hidden_states,\n\u001B[0;32m    862\u001B[0m     return_dict\u001B[39m=\u001B[39;49mreturn_dict,\n\u001B[0;32m    863\u001B[0m )\n\u001B[0;32m    864\u001B[0m sequence_output \u001B[39m=\u001B[39m encoder_outputs[\u001B[39m0\u001B[39m]\n\u001B[0;32m    865\u001B[0m pooled_output \u001B[39m=\u001B[39m \u001B[39mself\u001B[39m\u001B[39m.\u001B[39mpooler(sequence_output) \u001B[39mif\u001B[39;00m \u001B[39mself\u001B[39m\u001B[39m.\u001B[39mpooler \u001B[39mis\u001B[39;00m \u001B[39mnot\u001B[39;00m \u001B[39mNone\u001B[39;00m \u001B[39melse\u001B[39;00m \u001B[39mNone\u001B[39;00m\n",
      "File \u001B[1;32mc:\\Users\\alex\\anaconda3\\envs\\torch1.12_gpu_py39\\lib\\site-packages\\torch\\nn\\modules\\module.py:1130\u001B[0m, in \u001B[0;36mModule._call_impl\u001B[1;34m(self, *input, **kwargs)\u001B[0m\n\u001B[0;32m   1126\u001B[0m \u001B[39m# If we don't have any hooks, we want to skip the rest of the logic in\u001B[39;00m\n\u001B[0;32m   1127\u001B[0m \u001B[39m# this function, and just call forward.\u001B[39;00m\n\u001B[0;32m   1128\u001B[0m \u001B[39mif\u001B[39;00m \u001B[39mnot\u001B[39;00m (\u001B[39mself\u001B[39m\u001B[39m.\u001B[39m_backward_hooks \u001B[39mor\u001B[39;00m \u001B[39mself\u001B[39m\u001B[39m.\u001B[39m_forward_hooks \u001B[39mor\u001B[39;00m \u001B[39mself\u001B[39m\u001B[39m.\u001B[39m_forward_pre_hooks \u001B[39mor\u001B[39;00m _global_backward_hooks\n\u001B[0;32m   1129\u001B[0m         \u001B[39mor\u001B[39;00m _global_forward_hooks \u001B[39mor\u001B[39;00m _global_forward_pre_hooks):\n\u001B[1;32m-> 1130\u001B[0m     \u001B[39mreturn\u001B[39;00m forward_call(\u001B[39m*\u001B[39m\u001B[39minput\u001B[39m, \u001B[39m*\u001B[39m\u001B[39m*\u001B[39mkwargs)\n\u001B[0;32m   1131\u001B[0m \u001B[39m# Do not call functions when jit is used\u001B[39;00m\n\u001B[0;32m   1132\u001B[0m full_backward_hooks, non_full_backward_hooks \u001B[39m=\u001B[39m [], []\n",
      "File \u001B[1;32mc:\\Users\\alex\\anaconda3\\envs\\torch1.12_gpu_py39\\lib\\site-packages\\transformers\\models\\roberta\\modeling_roberta.py:527\u001B[0m, in \u001B[0;36mRobertaEncoder.forward\u001B[1;34m(self, hidden_states, attention_mask, head_mask, encoder_hidden_states, encoder_attention_mask, past_key_values, use_cache, output_attentions, output_hidden_states, return_dict)\u001B[0m\n\u001B[0;32m    518\u001B[0m     layer_outputs \u001B[39m=\u001B[39m torch\u001B[39m.\u001B[39mutils\u001B[39m.\u001B[39mcheckpoint\u001B[39m.\u001B[39mcheckpoint(\n\u001B[0;32m    519\u001B[0m         create_custom_forward(layer_module),\n\u001B[0;32m    520\u001B[0m         hidden_states,\n\u001B[1;32m   (...)\u001B[0m\n\u001B[0;32m    524\u001B[0m         encoder_attention_mask,\n\u001B[0;32m    525\u001B[0m     )\n\u001B[0;32m    526\u001B[0m \u001B[39melse\u001B[39;00m:\n\u001B[1;32m--> 527\u001B[0m     layer_outputs \u001B[39m=\u001B[39m layer_module(\n\u001B[0;32m    528\u001B[0m         hidden_states,\n\u001B[0;32m    529\u001B[0m         attention_mask,\n\u001B[0;32m    530\u001B[0m         layer_head_mask,\n\u001B[0;32m    531\u001B[0m         encoder_hidden_states,\n\u001B[0;32m    532\u001B[0m         encoder_attention_mask,\n\u001B[0;32m    533\u001B[0m         past_key_value,\n\u001B[0;32m    534\u001B[0m         output_attentions,\n\u001B[0;32m    535\u001B[0m     )\n\u001B[0;32m    537\u001B[0m hidden_states \u001B[39m=\u001B[39m layer_outputs[\u001B[39m0\u001B[39m]\n\u001B[0;32m    538\u001B[0m \u001B[39mif\u001B[39;00m use_cache:\n",
      "File \u001B[1;32mc:\\Users\\alex\\anaconda3\\envs\\torch1.12_gpu_py39\\lib\\site-packages\\torch\\nn\\modules\\module.py:1130\u001B[0m, in \u001B[0;36mModule._call_impl\u001B[1;34m(self, *input, **kwargs)\u001B[0m\n\u001B[0;32m   1126\u001B[0m \u001B[39m# If we don't have any hooks, we want to skip the rest of the logic in\u001B[39;00m\n\u001B[0;32m   1127\u001B[0m \u001B[39m# this function, and just call forward.\u001B[39;00m\n\u001B[0;32m   1128\u001B[0m \u001B[39mif\u001B[39;00m \u001B[39mnot\u001B[39;00m (\u001B[39mself\u001B[39m\u001B[39m.\u001B[39m_backward_hooks \u001B[39mor\u001B[39;00m \u001B[39mself\u001B[39m\u001B[39m.\u001B[39m_forward_hooks \u001B[39mor\u001B[39;00m \u001B[39mself\u001B[39m\u001B[39m.\u001B[39m_forward_pre_hooks \u001B[39mor\u001B[39;00m _global_backward_hooks\n\u001B[0;32m   1129\u001B[0m         \u001B[39mor\u001B[39;00m _global_forward_hooks \u001B[39mor\u001B[39;00m _global_forward_pre_hooks):\n\u001B[1;32m-> 1130\u001B[0m     \u001B[39mreturn\u001B[39;00m forward_call(\u001B[39m*\u001B[39m\u001B[39minput\u001B[39m, \u001B[39m*\u001B[39m\u001B[39m*\u001B[39mkwargs)\n\u001B[0;32m   1131\u001B[0m \u001B[39m# Do not call functions when jit is used\u001B[39;00m\n\u001B[0;32m   1132\u001B[0m full_backward_hooks, non_full_backward_hooks \u001B[39m=\u001B[39m [], []\n",
      "File \u001B[1;32mc:\\Users\\alex\\anaconda3\\envs\\torch1.12_gpu_py39\\lib\\site-packages\\transformers\\models\\roberta\\modeling_roberta.py:411\u001B[0m, in \u001B[0;36mRobertaLayer.forward\u001B[1;34m(self, hidden_states, attention_mask, head_mask, encoder_hidden_states, encoder_attention_mask, past_key_value, output_attentions)\u001B[0m\n\u001B[0;32m    399\u001B[0m \u001B[39mdef\u001B[39;00m \u001B[39mforward\u001B[39m(\n\u001B[0;32m    400\u001B[0m     \u001B[39mself\u001B[39m,\n\u001B[0;32m    401\u001B[0m     hidden_states: torch\u001B[39m.\u001B[39mTensor,\n\u001B[1;32m   (...)\u001B[0m\n\u001B[0;32m    408\u001B[0m ) \u001B[39m-\u001B[39m\u001B[39m>\u001B[39m Tuple[torch\u001B[39m.\u001B[39mTensor]:\n\u001B[0;32m    409\u001B[0m     \u001B[39m# decoder uni-directional self-attention cached key/values tuple is at positions 1,2\u001B[39;00m\n\u001B[0;32m    410\u001B[0m     self_attn_past_key_value \u001B[39m=\u001B[39m past_key_value[:\u001B[39m2\u001B[39m] \u001B[39mif\u001B[39;00m past_key_value \u001B[39mis\u001B[39;00m \u001B[39mnot\u001B[39;00m \u001B[39mNone\u001B[39;00m \u001B[39melse\u001B[39;00m \u001B[39mNone\u001B[39;00m\n\u001B[1;32m--> 411\u001B[0m     self_attention_outputs \u001B[39m=\u001B[39m \u001B[39mself\u001B[39;49m\u001B[39m.\u001B[39;49mattention(\n\u001B[0;32m    412\u001B[0m         hidden_states,\n\u001B[0;32m    413\u001B[0m         attention_mask,\n\u001B[0;32m    414\u001B[0m         head_mask,\n\u001B[0;32m    415\u001B[0m         output_attentions\u001B[39m=\u001B[39;49moutput_attentions,\n\u001B[0;32m    416\u001B[0m         past_key_value\u001B[39m=\u001B[39;49mself_attn_past_key_value,\n\u001B[0;32m    417\u001B[0m     )\n\u001B[0;32m    418\u001B[0m     attention_output \u001B[39m=\u001B[39m self_attention_outputs[\u001B[39m0\u001B[39m]\n\u001B[0;32m    420\u001B[0m     \u001B[39m# if decoder, the last output is tuple of self-attn cache\u001B[39;00m\n",
      "File \u001B[1;32mc:\\Users\\alex\\anaconda3\\envs\\torch1.12_gpu_py39\\lib\\site-packages\\torch\\nn\\modules\\module.py:1130\u001B[0m, in \u001B[0;36mModule._call_impl\u001B[1;34m(self, *input, **kwargs)\u001B[0m\n\u001B[0;32m   1126\u001B[0m \u001B[39m# If we don't have any hooks, we want to skip the rest of the logic in\u001B[39;00m\n\u001B[0;32m   1127\u001B[0m \u001B[39m# this function, and just call forward.\u001B[39;00m\n\u001B[0;32m   1128\u001B[0m \u001B[39mif\u001B[39;00m \u001B[39mnot\u001B[39;00m (\u001B[39mself\u001B[39m\u001B[39m.\u001B[39m_backward_hooks \u001B[39mor\u001B[39;00m \u001B[39mself\u001B[39m\u001B[39m.\u001B[39m_forward_hooks \u001B[39mor\u001B[39;00m \u001B[39mself\u001B[39m\u001B[39m.\u001B[39m_forward_pre_hooks \u001B[39mor\u001B[39;00m _global_backward_hooks\n\u001B[0;32m   1129\u001B[0m         \u001B[39mor\u001B[39;00m _global_forward_hooks \u001B[39mor\u001B[39;00m _global_forward_pre_hooks):\n\u001B[1;32m-> 1130\u001B[0m     \u001B[39mreturn\u001B[39;00m forward_call(\u001B[39m*\u001B[39m\u001B[39minput\u001B[39m, \u001B[39m*\u001B[39m\u001B[39m*\u001B[39mkwargs)\n\u001B[0;32m   1131\u001B[0m \u001B[39m# Do not call functions when jit is used\u001B[39;00m\n\u001B[0;32m   1132\u001B[0m full_backward_hooks, non_full_backward_hooks \u001B[39m=\u001B[39m [], []\n",
      "File \u001B[1;32mc:\\Users\\alex\\anaconda3\\envs\\torch1.12_gpu_py39\\lib\\site-packages\\transformers\\models\\roberta\\modeling_roberta.py:347\u001B[0m, in \u001B[0;36mRobertaAttention.forward\u001B[1;34m(self, hidden_states, attention_mask, head_mask, encoder_hidden_states, encoder_attention_mask, past_key_value, output_attentions)\u001B[0m\n\u001B[0;32m    328\u001B[0m \u001B[39mdef\u001B[39;00m \u001B[39mforward\u001B[39m(\n\u001B[0;32m    329\u001B[0m     \u001B[39mself\u001B[39m,\n\u001B[0;32m    330\u001B[0m     hidden_states: torch\u001B[39m.\u001B[39mTensor,\n\u001B[1;32m   (...)\u001B[0m\n\u001B[0;32m    336\u001B[0m     output_attentions: Optional[\u001B[39mbool\u001B[39m] \u001B[39m=\u001B[39m \u001B[39mFalse\u001B[39;00m,\n\u001B[0;32m    337\u001B[0m ) \u001B[39m-\u001B[39m\u001B[39m>\u001B[39m Tuple[torch\u001B[39m.\u001B[39mTensor]:\n\u001B[0;32m    338\u001B[0m     self_outputs \u001B[39m=\u001B[39m \u001B[39mself\u001B[39m\u001B[39m.\u001B[39mself(\n\u001B[0;32m    339\u001B[0m         hidden_states,\n\u001B[0;32m    340\u001B[0m         attention_mask,\n\u001B[1;32m   (...)\u001B[0m\n\u001B[0;32m    345\u001B[0m         output_attentions,\n\u001B[0;32m    346\u001B[0m     )\n\u001B[1;32m--> 347\u001B[0m     attention_output \u001B[39m=\u001B[39m \u001B[39mself\u001B[39;49m\u001B[39m.\u001B[39;49moutput(self_outputs[\u001B[39m0\u001B[39;49m], hidden_states)\n\u001B[0;32m    348\u001B[0m     outputs \u001B[39m=\u001B[39m (attention_output,) \u001B[39m+\u001B[39m self_outputs[\u001B[39m1\u001B[39m:]  \u001B[39m# add attentions if we output them\u001B[39;00m\n\u001B[0;32m    349\u001B[0m     \u001B[39mreturn\u001B[39;00m outputs\n",
      "File \u001B[1;32mc:\\Users\\alex\\anaconda3\\envs\\torch1.12_gpu_py39\\lib\\site-packages\\torch\\nn\\modules\\module.py:1130\u001B[0m, in \u001B[0;36mModule._call_impl\u001B[1;34m(self, *input, **kwargs)\u001B[0m\n\u001B[0;32m   1126\u001B[0m \u001B[39m# If we don't have any hooks, we want to skip the rest of the logic in\u001B[39;00m\n\u001B[0;32m   1127\u001B[0m \u001B[39m# this function, and just call forward.\u001B[39;00m\n\u001B[0;32m   1128\u001B[0m \u001B[39mif\u001B[39;00m \u001B[39mnot\u001B[39;00m (\u001B[39mself\u001B[39m\u001B[39m.\u001B[39m_backward_hooks \u001B[39mor\u001B[39;00m \u001B[39mself\u001B[39m\u001B[39m.\u001B[39m_forward_hooks \u001B[39mor\u001B[39;00m \u001B[39mself\u001B[39m\u001B[39m.\u001B[39m_forward_pre_hooks \u001B[39mor\u001B[39;00m _global_backward_hooks\n\u001B[0;32m   1129\u001B[0m         \u001B[39mor\u001B[39;00m _global_forward_hooks \u001B[39mor\u001B[39;00m _global_forward_pre_hooks):\n\u001B[1;32m-> 1130\u001B[0m     \u001B[39mreturn\u001B[39;00m forward_call(\u001B[39m*\u001B[39m\u001B[39minput\u001B[39m, \u001B[39m*\u001B[39m\u001B[39m*\u001B[39mkwargs)\n\u001B[0;32m   1131\u001B[0m \u001B[39m# Do not call functions when jit is used\u001B[39;00m\n\u001B[0;32m   1132\u001B[0m full_backward_hooks, non_full_backward_hooks \u001B[39m=\u001B[39m [], []\n",
      "File \u001B[1;32mc:\\Users\\alex\\anaconda3\\envs\\torch1.12_gpu_py39\\lib\\site-packages\\transformers\\models\\roberta\\modeling_roberta.py:298\u001B[0m, in \u001B[0;36mRobertaSelfOutput.forward\u001B[1;34m(self, hidden_states, input_tensor)\u001B[0m\n\u001B[0;32m    296\u001B[0m hidden_states \u001B[39m=\u001B[39m \u001B[39mself\u001B[39m\u001B[39m.\u001B[39mdense(hidden_states)\n\u001B[0;32m    297\u001B[0m hidden_states \u001B[39m=\u001B[39m \u001B[39mself\u001B[39m\u001B[39m.\u001B[39mdropout(hidden_states)\n\u001B[1;32m--> 298\u001B[0m hidden_states \u001B[39m=\u001B[39m \u001B[39mself\u001B[39;49m\u001B[39m.\u001B[39;49mLayerNorm(hidden_states \u001B[39m+\u001B[39;49m input_tensor)\n\u001B[0;32m    299\u001B[0m \u001B[39mreturn\u001B[39;00m hidden_states\n",
      "File \u001B[1;32mc:\\Users\\alex\\anaconda3\\envs\\torch1.12_gpu_py39\\lib\\site-packages\\torch\\nn\\modules\\module.py:1130\u001B[0m, in \u001B[0;36mModule._call_impl\u001B[1;34m(self, *input, **kwargs)\u001B[0m\n\u001B[0;32m   1126\u001B[0m \u001B[39m# If we don't have any hooks, we want to skip the rest of the logic in\u001B[39;00m\n\u001B[0;32m   1127\u001B[0m \u001B[39m# this function, and just call forward.\u001B[39;00m\n\u001B[0;32m   1128\u001B[0m \u001B[39mif\u001B[39;00m \u001B[39mnot\u001B[39;00m (\u001B[39mself\u001B[39m\u001B[39m.\u001B[39m_backward_hooks \u001B[39mor\u001B[39;00m \u001B[39mself\u001B[39m\u001B[39m.\u001B[39m_forward_hooks \u001B[39mor\u001B[39;00m \u001B[39mself\u001B[39m\u001B[39m.\u001B[39m_forward_pre_hooks \u001B[39mor\u001B[39;00m _global_backward_hooks\n\u001B[0;32m   1129\u001B[0m         \u001B[39mor\u001B[39;00m _global_forward_hooks \u001B[39mor\u001B[39;00m _global_forward_pre_hooks):\n\u001B[1;32m-> 1130\u001B[0m     \u001B[39mreturn\u001B[39;00m forward_call(\u001B[39m*\u001B[39m\u001B[39minput\u001B[39m, \u001B[39m*\u001B[39m\u001B[39m*\u001B[39mkwargs)\n\u001B[0;32m   1131\u001B[0m \u001B[39m# Do not call functions when jit is used\u001B[39;00m\n\u001B[0;32m   1132\u001B[0m full_backward_hooks, non_full_backward_hooks \u001B[39m=\u001B[39m [], []\n",
      "File \u001B[1;32mc:\\Users\\alex\\anaconda3\\envs\\torch1.12_gpu_py39\\lib\\site-packages\\torch\\nn\\modules\\normalization.py:189\u001B[0m, in \u001B[0;36mLayerNorm.forward\u001B[1;34m(self, input)\u001B[0m\n\u001B[0;32m    188\u001B[0m \u001B[39mdef\u001B[39;00m \u001B[39mforward\u001B[39m(\u001B[39mself\u001B[39m, \u001B[39minput\u001B[39m: Tensor) \u001B[39m-\u001B[39m\u001B[39m>\u001B[39m Tensor:\n\u001B[1;32m--> 189\u001B[0m     \u001B[39mreturn\u001B[39;00m F\u001B[39m.\u001B[39;49mlayer_norm(\n\u001B[0;32m    190\u001B[0m         \u001B[39minput\u001B[39;49m, \u001B[39mself\u001B[39;49m\u001B[39m.\u001B[39;49mnormalized_shape, \u001B[39mself\u001B[39;49m\u001B[39m.\u001B[39;49mweight, \u001B[39mself\u001B[39;49m\u001B[39m.\u001B[39;49mbias, \u001B[39mself\u001B[39;49m\u001B[39m.\u001B[39;49meps)\n",
      "File \u001B[1;32mc:\\Users\\alex\\anaconda3\\envs\\torch1.12_gpu_py39\\lib\\site-packages\\torch\\nn\\functional.py:2503\u001B[0m, in \u001B[0;36mlayer_norm\u001B[1;34m(input, normalized_shape, weight, bias, eps)\u001B[0m\n\u001B[0;32m   2499\u001B[0m \u001B[39mif\u001B[39;00m has_torch_function_variadic(\u001B[39minput\u001B[39m, weight, bias):\n\u001B[0;32m   2500\u001B[0m     \u001B[39mreturn\u001B[39;00m handle_torch_function(\n\u001B[0;32m   2501\u001B[0m         layer_norm, (\u001B[39minput\u001B[39m, weight, bias), \u001B[39minput\u001B[39m, normalized_shape, weight\u001B[39m=\u001B[39mweight, bias\u001B[39m=\u001B[39mbias, eps\u001B[39m=\u001B[39meps\n\u001B[0;32m   2502\u001B[0m     )\n\u001B[1;32m-> 2503\u001B[0m \u001B[39mreturn\u001B[39;00m torch\u001B[39m.\u001B[39;49mlayer_norm(\u001B[39minput\u001B[39;49m, normalized_shape, weight, bias, eps, torch\u001B[39m.\u001B[39;49mbackends\u001B[39m.\u001B[39;49mcudnn\u001B[39m.\u001B[39;49menabled)\n",
      "\u001B[1;31mKeyboardInterrupt\u001B[0m: "
     ]
    }
   ],
   "source": [
    "# find sentiment and probability of it for all post in mastodon data\n",
    "toot_data=add_sentiment_and_prob(toot_data)\n"
   ]
  },
  {
   "cell_type": "code",
   "execution_count": 40,
   "metadata": {
    "pycharm": {
     "name": "#%%\n"
    }
   },
   "outputs": [],
   "source": [
    "toot_data.to_csv('data/toot_emoji_sentiment',index=False)"
   ]
  },
  {
   "cell_type": "code",
   "execution_count": 107,
   "metadata": {
    "pycharm": {
     "name": "#%%\n"
    }
   },
   "outputs": [
    {
     "name": "stderr",
     "output_type": "stream",
     "text": [
      "100%|██████████| 841989/841989 [5:49:07<00:00, 40.20it/s]   \n"
     ]
    }
   ],
   "source": [
    "# find sentiment and probability of it for all tweet in tweet data\n",
    "# !!!!!!!!!!!!!!!! takes really long\n",
    "data=add_sentiment_and_prob(data)"
   ]
  },
  {
   "cell_type": "code",
   "execution_count": 108,
   "metadata": {
    "pycharm": {
     "name": "#%%\n"
    }
   },
   "outputs": [],
   "source": [
    "data.to_csv('data/tweet_emoji_sentiment',index=False)"
   ]
  },
  {
   "attachments": {},
   "cell_type": "markdown",
   "metadata": {
    "pycharm": {
     "name": "#%% md\n"
    }
   },
   "source": [
    "If have sentiment data, read following files"
   ]
  },
  {
   "cell_type": "code",
   "execution_count": 4,
   "metadata": {
    "pycharm": {
     "name": "#%%\n"
    }
   },
   "outputs": [],
   "source": [
    "data=pd.read_csv('data/tweet_emoji_sentiment.csv')\n",
    "toot_data=pd.read_csv('data/toot_emoji_sentiment.csv')"
   ]
  },
  {
   "cell_type": "code",
   "execution_count": 14,
   "metadata": {
    "pycharm": {
     "name": "#%%\n"
    }
   },
   "outputs": [
    {
     "name": "stdout",
     "output_type": "stream",
     "text": [
      "{'🇺🇦': 667, '🟩': 664, '❤️': 501, '🟨': 466, '😂': 463, '⬜': 402, '👉': 352, '🤔': 327, '⬛': 314, '⚠️': 298, '⚡': 294, '✨': 289, '🤘': 284, '🔥': 276, '👀': 272, '🤣': 267, '👇': 252, '😅': 250, '😍': 249, '😊': 245}\n",
      "{'❤️': 26, '😂': 22, '😁': 20, '✨': 18, '🤣': 16, '👇': 15, '🔥': 14, '😆': 13, '😊': 13, '😅': 13}\n",
      "{'😂': 19, '🇺🇦': 15, '⚡': 9, '🤣': 8, '🤔': 8, '⚠️': 7, '😅': 6, '😬': 5, '😭': 5, '👉': 5}\n",
      "{'😂': 64, '🤣': 39, '😅': 30, '🤔': 29, '🇺🇦': 23, '❤️': 22, '🟩': 22, '⬛': 17, '😁': 16, '👍': 15}\n"
     ]
    }
   ],
   "source": [
    "# for mastodon data, find count of different emoji\n",
    "emoji_dic=count_emoji(toot_data,topk=20,descending=True,truncate=True)\n",
    "print(emoji_dic)\n",
    "\n",
    "tok=proportion_sentiment_topk_emoji(toot_data,'Positive',0.1,10)\n",
    "print(tok)\n",
    "\n",
    "tok=proportion_sentiment_topk_emoji(toot_data,'Negative',0.1,10)\n",
    "print(tok)\n",
    "\n",
    "tok=proportion_sentiment_topk_emoji(toot_data,'Neutral',0.1,10)\n",
    "print(tok)"
   ]
  },
  {
   "cell_type": "code",
   "execution_count": 111,
   "metadata": {
    "pycharm": {
     "name": "#%%\n"
    }
   },
   "outputs": [
    {
     "name": "stdout",
     "output_type": "stream",
     "text": [
      "{'😂': 81530, '🤣': 52657, '❤️': 49654, '🙏': 26826, '😍': 22743, '😊': 22218, '🥰': 21231, '🔥': 20181, '👍': 19620, '🤔': 18504, '😁': 18109, '🇦🇺': 16240, '😭': 16095, '💙': 15596, '😅': 15529, '😉': 14685, '👏': 14197, '🟩': 13249, '💕': 12056, '🙄': 11699}\n",
      "{'😂': 4724, '🤣': 3112, '👍': 2060, '🙏': 1990, '🔥': 1575, '😉': 1262, '😆': 1192, '❤️': 1162, '😅': 1149, '😁': 1062}\n",
      "{'😂': 1940, '🤣': 1869, '😭': 756, '🙄': 648, '🤔': 410, '😳': 338, '💀': 329, '😔': 324, '😅': 283, '😩': 187}\n",
      "{'🤣': 7607, '😂': 5129, '😭': 1249, '😅': 948, '🙄': 725, '🤔': 626, '😳': 581, '❤️': 562, '😉': 561, '😁': 533}\n"
     ]
    }
   ],
   "source": [
    "# for tweet data, find count of different emoji\n",
    "emoji_dic=count_emoji(data,topk=20,descending=True,truncate=True)\n",
    "print(emoji_dic)\n",
    "\n",
    "topk=proportion_sentiment_topk_emoji(data,'Positive',0.1,10)\n",
    "print(topk)\n",
    "\n",
    "topk=proportion_sentiment_topk_emoji(data,'Negative',0.1,10)\n",
    "print(topk)\n",
    "\n",
    "topk=proportion_sentiment_topk_emoji(data,'Neutral',0.1,10)\n",
    "print(topk)"
   ]
  },
  {
   "cell_type": "code",
   "execution_count": 15,
   "metadata": {
    "pycharm": {
     "name": "#%%\n"
    }
   },
   "outputs": [
    {
     "name": "stdout",
     "output_type": "stream",
     "text": [
      "Positive    414517\n",
      "Neutral     300277\n",
      "Negative    127195\n",
      "Name: sentiment, dtype: int64\n"
     ]
    },
    {
     "data": {
      "image/png": "[encoded data removed]",
      "text/plain": [
       "<Figure size 640x480 with 1 Axes>"
      ]
     },
     "metadata": {},
     "output_type": "display_data"
    }
   ],
   "source": [
    "plot_piechart(data)"
   ]
  },
  {
   "cell_type": "code",
   "execution_count": 16,
   "metadata": {
    "pycharm": {
     "name": "#%%\n"
    }
   },
   "outputs": [
    {
     "name": "stdout",
     "output_type": "stream",
     "text": [
      "Neutral     8371\n",
      "Positive    5183\n",
      "Negative    2590\n",
      "Name: sentiment, dtype: int64\n"
     ]
    },
    {
     "data": {
      "image/png": "[encoded data removed]",
      "text/plain": [
       "<Figure size 640x480 with 1 Axes>"
      ]
     },
     "metadata": {},
     "output_type": "display_data"
    }
   ],
   "source": [
    "plot_piechart(toot_data)"
   ]
  },
  {
   "cell_type": "code",
   "execution_count": 128,
   "metadata": {
    "pycharm": {
     "name": "#%%\n"
    }
   },
   "outputs": [
    {
     "name": "stdout",
     "output_type": "stream",
     "text": [
      "{'2022-02': 137300, '2022-03': 234841, '2022-04': 252032, '2022-05': 259834, '2022-06': 229177, '2022-07': 215355, '2022-08': 72136}\n"
     ]
    }
   ],
   "source": [
    "dic= count_emoji_date(data,'month')\n",
    "print(dic)"
   ]
  },
  {
   "cell_type": "code",
   "execution_count": null,
   "metadata": {
    "pycharm": {
     "name": "#%%\n"
    }
   },
   "outputs": [],
   "source": []
  },
  {
   "cell_type": "code",
   "execution_count": 122,
   "metadata": {
    "pycharm": {
     "name": "#%%\n"
    }
   },
   "outputs": [
    {
     "data": {
      "text/plain": [
       "'2023'"
      ]
     },
     "execution_count": 122,
     "metadata": {},
     "output_type": "execute_result"
    }
   ],
   "source": [
    "toot_data.iloc[0,:]['created_at'][:4]"
   ]
  },
  {
   "cell_type": "code",
   "execution_count": 69,
   "metadata": {
    "pycharm": {
     "name": "#%%\n"
    }
   },
   "outputs": [
    {
     "name": "stdout",
     "output_type": "stream",
     "text": [
      "Sentiment: Neutral\n",
      "Neutral 0.7479214072227478\n"
     ]
    }
   ],
   "source": [
    "a,b=find_sentiment('Wordle 680 5/6⬜⬜🟩⬜⬜🟩⬜🟩⬜⬜🟩🟩🟩⬜⬜🟩🟩🟩⬜🟩🟩🟩🟩🟩🟩')\n",
    "print(a,b)"
   ]
  },
  {
   "cell_type": "code",
   "execution_count": 62,
   "metadata": {
    "pycharm": {
     "name": "#%%\n"
    }
   },
   "outputs": [
    {
     "name": "stdout",
     "output_type": "stream",
     "text": [
      "How to Init Databases With #Quarkus - Sebastian Daschner 🇺🇦 https://blog.sebastian-daschner.com/entries/init-databases-quarkus#Java\n"
     ]
    }
   ],
   "source": [
    "def find_emoji_existance(df,emo='🇺🇦'):\n",
    "    exit=False\n",
    "    for i in range(len(df)):\n",
    "        tweet=df.iloc[i,2]\n",
    "        for e in emoji.distinct_emoji_list(tweet):\n",
    "            if e == emo:\n",
    "                print(tweet)\n",
    "                exit=True\n",
    "                break\n",
    "        if exit:\n",
    "            break\n",
    "find_emoji_existance(toot_data,'🇺🇦')"
   ]
  }
 ],
 "metadata": {
  "kernelspec": {
   "display_name": "torch1.12.1_gpu_py39",
   "language": "python",
   "name": "python3"
  },
  "language_info": {
   "codemirror_mode": {
    "name": "ipython",
    "version": 3
   },
   "file_extension": ".py",
   "mimetype": "text/x-python",
   "name": "python",
   "nbconvert_exporter": "python",
   "pygments_lexer": "ipython3",
   "version": "3.9.16"
  },
  "orig_nbformat": 4
 },
 "nbformat": 4,
 "nbformat_minor": 2
}